{
 "cells": [
  {
   "cell_type": "code",
   "execution_count": 1,
   "id": "482cab69",
   "metadata": {},
   "outputs": [
    {
     "name": "stdout",
     "output_type": "stream",
     "text": [
      "{'jsonrpc': '2.0', 'id': 1, 'error': {'code': -32602, 'message': 'invalid argument 0: hex string has length 12, want 64 for common.Hash'}}\n",
      "{'jsonrpc': '2.0', 'id': 1, 'error': {'code': -32602, 'message': 'invalid argument 0: invalid hex string'}}\n",
      "{'status': '0', 'message': 'NOTOK', 'result': 'Error! Invalid address format'}\n"
     ]
    }
   ],
   "source": [
    "import requests\n",
    "\n",
    "API_KEY = 'CURIRTFEU5IDZ9HHMJS2UEKJ68HNP3S7GY'\n",
    "\n",
    "def get_transaction_data(tx_hash):\n",
    "    url = f\"https://api.etherscan.io/api?module=proxy&action=eth_getTransactionByHash&txhash={tx_hash}&apikey={API_KEY}\"\n",
    "    response = requests.get(url)\n",
    "    return response.json()\n",
    "\n",
    "def get_block_data(block_number):\n",
    "    url = f\"https://api.etherscan.io/api?module=proxy&action=eth_getBlockByNumber&tag={block_number}&boolean=true&apikey={API_KEY}\"\n",
    "    response = requests.get(url)\n",
    "    return response.json()\n",
    "\n",
    "def get_address_data(address):\n",
    "    url = f\"https://api.etherscan.io/api?module=account&action=txlist&address={address}&startblock=0&endblock=99999999&sort=asc&apikey={API_KEY}\"\n",
    "    response = requests.get(url)\n",
    "    return response.json()\n",
    "\n",
    "# Example usage\n",
    "tx_data = get_transaction_data('your_tx_hash')\n",
    "block_data = get_block_data('your_block_number')\n",
    "address_data = get_address_data('your_ethereum_address')\n",
    "\n",
    "print(tx_data)\n",
    "print(block_data)\n",
    "print(address_data)\n"
   ]
  },
  {
   "cell_type": "code",
   "execution_count": null,
   "id": "2addce8d",
   "metadata": {},
   "outputs": [],
   "source": []
  }
 ],
 "metadata": {
  "kernelspec": {
   "display_name": "Python 3 (ipykernel)",
   "language": "python",
   "name": "python3"
  },
  "language_info": {
   "codemirror_mode": {
    "name": "ipython",
    "version": 3
   },
   "file_extension": ".py",
   "mimetype": "text/x-python",
   "name": "python",
   "nbconvert_exporter": "python",
   "pygments_lexer": "ipython3",
   "version": "3.11.3"
  }
 },
 "nbformat": 4,
 "nbformat_minor": 5
}
